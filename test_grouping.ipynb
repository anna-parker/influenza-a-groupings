{
 "cells": [
  {
   "cell_type": "markdown",
   "metadata": {},
   "source": [
    "## Assessment of Influenza segment groupings\n",
    "\n",
    "In order to ingest influenza segments in Loculus we must identify segments and group them, prior to creating this JSON this had to be done heuristically. Here I compare the results of using the heuristic approach (old) vs using the known (from assemblies) and heuristic approaches (new). \n",
    "\n",
    "Download all metadata using \n",
    "\n",
    "```\n",
    "curl -X 'GET' \\\n",
    "  'https://api.loculus.staging.genspectrum.org/influenza-a/sample/details?dataFormat=JSON&downloadAsFile=true' \\\n",
    "  -H 'accept: application/json' > influenza_a_submissionIds.json\n",
    "```\n",
    "\n",
    "It is possible to just query LAPIS for the submissionIds of all sequences, this is what we need to compare groupings.\n",
    "\n",
    "```\n",
    "curl -X 'GET' \\\n",
    "  'https://api.loculus.staging.genspectrum.org/influenza-a/sample/details?fields=submissionId,AccessionVersion&dataFormat=JSON&downloadAsFile=true' \\\n",
    "  -H 'accept: application/json' > influenza_a_submissionIds.json\n",
    "```\n",
    "\n",
    "In numbers: \n",
    "1. There are a total of 1180715 influenza-a sequences on genbank.\n",
    "2. Ingest uses nextclade sort to determine which influenza segment a sequence corresponds to, if a segment does not align to any segment it is dropped. Note I switch the `nextclade_sort` min score parameter from 0.1 to 0.05 as I was able to show it was correct for all segments where I had data for, I did not want to drop it further as I showed this led to inaccurate subtype assignments. Nextclade sort led to the dropping of 24144 sequences (over 4000 for 0.1).\n",
    "3. Of these 346935 cannot be grouped using known assembly groupings.\n",
    "4. Of the known assembly alignments there are 101247 known groups, there were 21 groups without all segments found (due to being previously dropped) and 3 full groups lost due to dropping a further 8 segment group was removed due to a submission error (submitter uploaded segment1 twice as segment1 and segment2). While grouping the known groups 4024 groups had ncbiReleaseDates that did not match, additionally 2890 had authors and 1731 had author affiliations that did not match. The number of fields where metadata fields are only found in some segments and not all is much higher, all of these would not be grouped by heuristic groupings.\n",
    "5. Of the 346935 segments without a known grouping heuristic grouping can find 200747 groups.\n"
   ]
  },
  {
   "cell_type": "code",
   "execution_count": 50,
   "metadata": {},
   "outputs": [],
   "source": [
    "import json\n",
    "\n",
    "assembly_grouped = \"influenza_a_submissionIds_new.json\"\n",
    "old_grouped = \"influenza_a_submissionIds_old.json\"\n",
    "assembly_grouped_dict: dict = json.load(\n",
    "    open(assembly_grouped, encoding=\"utf-8\")\n",
    ")\n",
    "old_grouped_dict: dict = json.load(\n",
    "    open(old_grouped, encoding=\"utf-8\")\n",
    ")"
   ]
  },
  {
   "cell_type": "code",
   "execution_count": 51,
   "metadata": {},
   "outputs": [],
   "source": [
    "known_groups: dict = json.load(open(\"results/groups.json\", encoding=\"utf-8\"))\n",
    "accession_to_true_group = {}\n",
    "for group, accessions in known_groups.items():\n",
    "    for accession in accessions:\n",
    "        accession_to_true_group[accession] = set(accessions)"
   ]
  },
  {
   "cell_type": "code",
   "execution_count": 52,
   "metadata": {},
   "outputs": [
    {
     "name": "stdout",
     "output_type": "stream",
     "text": [
      "Number of segments: 1156563\n",
      "Number of groups: 301990\n",
      "{'seg4': 214692, 'seg6': 162113, 'seg1': 126778, 'seg2': 124852, 'seg3': 126176, 'seg5': 128585, 'seg7': 143015, 'seg8': 130352}\n"
     ]
    }
   ],
   "source": [
    "def parse_output(grouping_dict, grouped_accessions, groups, accession_to_group):\n",
    "    sort_number_of_each_seg = {}\n",
    "    for record in grouping_dict:\n",
    "        insdc_accessions = record[\"submissionId\"].split(\"/\")\n",
    "        grouped_accessions.extend(insdc_accessions)\n",
    "        groups.append(record[\"submissionId\"])\n",
    "        insdc_accessions_no_segments = ['.'.join(record.split('.')[:-1]) for record in record[\"submissionId\"].split(\"/\")]\n",
    "        for accession in insdc_accessions:\n",
    "            seg = accession.split(\".\")[-1]\n",
    "            accession_no_seg = '.'.join(accession.split(\".\")[:-1])\n",
    "            sort_number_of_each_seg[seg] = sort_number_of_each_seg.get(seg, 0) + 1\n",
    "            accession_to_group[accession_no_seg] = set(insdc_accessions_no_segments)\n",
    "\n",
    "    print(f\"Number of segments: {len(set(grouped_accessions))}\")\n",
    "    print(f\"Number of groups: {len(set(groups))}\")\n",
    "    print(sort_number_of_each_seg)\n",
    "\n",
    "assembly_grouped_accessions = []\n",
    "assembly_groups = []\n",
    "assembly_grouped_accessions_to_group = {}\n",
    "\n",
    "parse_output(assembly_grouped_dict, assembly_grouped_accessions, assembly_groups, assembly_grouped_accessions_to_group)"
   ]
  },
  {
   "cell_type": "code",
   "execution_count": 53,
   "metadata": {},
   "outputs": [
    {
     "name": "stdout",
     "output_type": "stream",
     "text": [
      "Number of segments: 1135724\n",
      "Number of groups: 364384\n",
      "{'seg4': 194261, 'seg5': 128568, 'seg7': 143004, 'seg1': 126753, 'seg2': 124840, 'seg3': 126162, 'seg8': 130322, 'seg6': 161814}\n"
     ]
    }
   ],
   "source": [
    "old_grouped_accessions = []\n",
    "old_groups = []\n",
    "old_grouped_accessions_to_group = {}\n",
    "\n",
    "parse_output(old_grouped_dict, old_grouped_accessions, old_groups, old_grouped_accessions_to_group)"
   ]
  },
  {
   "cell_type": "code",
   "execution_count": 54,
   "metadata": {},
   "outputs": [
    {
     "name": "stdout",
     "output_type": "stream",
     "text": [
      "Number of accessions only in new approach:20847\n",
      "Number of accessions only in old approach:8\n",
      "Number of groups only in new approach:35155\n",
      "Number of groups only in old approach:97549\n"
     ]
    }
   ],
   "source": [
    "print(f\"Number of accessions only in new approach:{len(set(assembly_grouped_accessions) - set(old_grouped_accessions))}\")\n",
    "print(f\"Number of accessions only in old approach:{len(set(old_grouped_accessions) - set(assembly_grouped_accessions))}\")\n",
    "\n",
    "print(f\"Number of groups only in new approach:{len(set(assembly_groups) - set(old_groups))}\")\n",
    "print(f\"Number of groups only in old approach:{len(set(old_groups) - set(assembly_groups))}\")"
   ]
  },
  {
   "cell_type": "code",
   "execution_count": 58,
   "metadata": {},
   "outputs": [
    {
     "name": "stdout",
     "output_type": "stream",
     "text": [
      "Number of accessions in old group same as truth: 666262\n",
      "Number of accessions in new group same as truth: 809513\n"
     ]
    }
   ],
   "source": [
    "count = 0\n",
    "for accession, item in old_grouped_accessions_to_group.items():\n",
    "    if item == accession_to_true_group.get(accession, ''):\n",
    "        count +=1\n",
    "print(f\"Number of accessions in old group same as truth: {count}\")\n",
    "\n",
    "count = 0\n",
    "for accession, item in assembly_grouped_accessions_to_group.items():\n",
    "    if item == accession_to_true_group.get(accession, ''):\n",
    "        count +=1\n",
    "print(f\"Number of accessions in new group same as truth: {count}\")"
   ]
  },
  {
   "cell_type": "code",
   "execution_count": 55,
   "metadata": {},
   "outputs": [
    {
     "name": "stdout",
     "output_type": "stream",
     "text": [
      "Number of accessions in the same group: 986053\n",
      "Number of accessions in the same group as truth: 666262\n"
     ]
    }
   ],
   "source": [
    "count = 0\n",
    "count_same_as_truth = 0\n",
    "for accession, item in old_grouped_accessions_to_group.items():\n",
    "    if item == assembly_grouped_accessions_to_group.get(accession, ''):\n",
    "        count +=1\n",
    "        if item == accession_to_true_group.get(accession, ''):\n",
    "            count_same_as_truth += 1\n",
    "print(f\"Number of accessions in the same group: {count}\")\n",
    "print(f\"Number of accessions in the same group and in the same group as truth: {count_same_as_truth}\")"
   ]
  },
  {
   "cell_type": "code",
   "execution_count": 56,
   "metadata": {},
   "outputs": [
    {
     "name": "stdout",
     "output_type": "stream",
     "text": [
      "Number of groups in old that are a strict subset of a group in new: 97479.99999995595\n"
     ]
    }
   ],
   "source": [
    "count = 0\n",
    "for accession, item in old_grouped_accessions_to_group.items():\n",
    "    assembly_group = assembly_grouped_accessions_to_group.get(accession, {})\n",
    "    if item.issubset(assembly_group) and item != assembly_group:\n",
    "        count +=(1/len(item))\n",
    "print(f\"Number of groups in old that are a strict subset of a group in new: {count}\")"
   ]
  },
  {
   "cell_type": "code",
   "execution_count": 57,
   "metadata": {},
   "outputs": [
    {
     "name": "stdout",
     "output_type": "stream",
     "text": [
      "Number of groups in new that are a strict subset of a group in old: 139.0\n"
     ]
    }
   ],
   "source": [
    "count = 0\n",
    "for accession, item in assembly_grouped_accessions_to_group.items():\n",
    "    old_group = old_grouped_accessions_to_group.get(accession, {})\n",
    "    if item.issubset(old_group) and item != old_group:\n",
    "        count +=(1/len(item))\n",
    "print(f\"Number of groups in new that are a strict subset of a group in old: {count}\")"
   ]
  }
 ],
 "metadata": {
  "kernelspec": {
   "display_name": "grouping",
   "language": "python",
   "name": "python3"
  },
  "language_info": {
   "codemirror_mode": {
    "name": "ipython",
    "version": 3
   },
   "file_extension": ".py",
   "mimetype": "text/x-python",
   "name": "python",
   "nbconvert_exporter": "python",
   "pygments_lexer": "ipython3",
   "version": "3.12.8"
  }
 },
 "nbformat": 4,
 "nbformat_minor": 2
}
